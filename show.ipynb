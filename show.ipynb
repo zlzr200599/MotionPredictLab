{
 "cells": [
  {
   "cell_type": "code",
   "execution_count": 4,
   "metadata": {
    "collapsed": true,
    "pycharm": {
     "is_executing": false
    }
   },
   "outputs": [
    {
     "name": "stdout",
     "text": [
      "333\n",
      "1: lo: <LOOPBACK,UP,LOWER_UP> mtu 65536 qdisc noqueue state UNKNOWN group default qlen 1000\r\n",
      "    link/loopback 00:00:00:00:00:00 brd 00:00:00:00:00:00\r\n",
      "    inet 127.0.0.1/8 scope host lo\r\n",
      "       valid_lft forever preferred_lft forever\r\n",
      "    inet6 ::1/128 scope host \r\n",
      "       valid_lft forever preferred_lft forever\r\n",
      "2: enp5s0: <NO-CARRIER,BROADCAST,MULTICAST,UP> mtu 1500 qdisc fq_codel state DOWN group default qlen 1000\r\n",
      "    link/ether 10:bf:48:08:df:f8 brd ff:ff:ff:ff:ff:ff\r\n",
      "3: wlp3s0: <BROADCAST,MULTICAST,UP,LOWER_UP> mtu 1500 qdisc mq state UP group default qlen 1000\r\n",
      "    link/ether 78:92:9c:80:54:6e brd ff:ff:ff:ff:ff:ff\r\n",
      "    inet 192.168.1.7/24 brd 192.168.1.255 scope global dynamic noprefixroute wlp3s0\r\n",
      "       valid_lft 85283sec preferred_lft 85283sec\r\n",
      "    inet6 2409:8a00:2411:8e30:4efd:798d:932e:86f/64 scope global temporary dynamic \r\n",
      "       valid_lft 256418sec preferred_lft 84940sec\r\n",
      "    inet6 2409:8a00:2411:8e30:16bd:88b3:dc35:e13d/64 scope global dynamic mngtmpaddr noprefixroute \r\n",
      "       valid_lft 256418sec preferred_lft 170018sec\r\n",
      "    inet6 fe80::5e14:e04f:cc9:4fad/64 scope link noprefixroute \r\n",
      "       valid_lft forever preferred_lft forever\r\n",
      "4: docker0: <NO-CARRIER,BROADCAST,MULTICAST,UP> mtu 1500 qdisc noqueue state DOWN group default \r\n",
      "    link/ether 02:42:50:d4:8c:89 brd ff:ff:ff:ff:ff:ff\r\n",
      "    inet 172.17.0.1/16 brd 172.17.255.255 scope global docker0\r\n",
      "       valid_lft forever preferred_lft forever\r\n"
     ],
     "output_type": "stream"
    }
   ],
   "source": [
    "print(\"333\")\n",
    "! ip addr"
   ]
  },
  {
   "cell_type": "code",
   "execution_count": 5,
   "outputs": [
    {
     "data": {
      "text/plain": "<Figure size 432x288 with 1 Axes>",
      "image/png": "[encoded data removed]"
     },
     "metadata": {
      "needs_background": "light"
     },
     "output_type": "display_data"
    }
   ],
   "source": [
    "import matplotlib.pyplot as plt\n",
    "plt.figure()\n",
    "plt.plot([1,2,3],[1,3,5])\n",
    "plt.show()\n"
   ],
   "metadata": {
    "collapsed": false,
    "pycharm": {
     "name": "#%%\n",
     "is_executing": false
    }
   }
  },
  {
   "cell_type": "code",
   "execution_count": 20,
   "outputs": [
    {
     "name": "stdout",
     "text": [
      "[2 3 4]\n"
     ],
     "output_type": "stream"
    }
   ],
   "source": [
    "import numpy as np\n",
    "s = np.array([1,2,3,4,5])\n",
    "print(s[1:4])"
   ],
   "metadata": {
    "collapsed": false,
    "pycharm": {
     "name": "#%%\n",
     "is_executing": false
    }
   }
  },
  {
   "cell_type": "code",
   "execution_count": 18,
   "outputs": [
    {
     "name": "stdout",
     "text": [
      "(1.4142135623730951, -0.7853981633974483)\n",
      "0.7853981633974483\n",
      "(1, 1)\n",
      "(1.4142135623730951, 0.7853981633974483)\n"
     ],
     "output_type": "stream"
    }
   ],
   "source": [
    "import numpy as np\n",
    "\n",
    "def cart2pol(x, y):\n",
    "    rho = np.sqrt(x**2 + y**2)\n",
    "    phi = np.arctan2(y, x)\n",
    "    return(rho, phi)\n",
    "\n",
    "def pol2cart(rho, phi):\n",
    "    x = rho * np.cos(phi)\n",
    "    y = rho * np.sin(phi)\n",
    "    return(x, y)\n",
    "print(cart2pol(1,-1))\n",
    "print(np.pi/4)\n",
    "a, b = (1,1),(2,5)\n",
    "print(a)\n",
    "print(cart2pol(*a))\n"
   ],
   "metadata": {
    "collapsed": false,
    "pycharm": {
     "name": "#%%\n",
     "is_executing": false
    }
   }
  },
  {
   "cell_type": "code",
   "execution_count": 29,
   "outputs": [
    {
     "name": "stdout",
     "text": [
      "-2.8\n"
     ],
     "output_type": "stream"
    }
   ],
   "source": [
    "a = -2.8\n",
    "print((1 if a > 0 else -1)*((-a)%3.0))\n"
   ],
   "metadata": {
    "collapsed": false,
    "pycharm": {
     "name": "#%%\n",
     "is_executing": false
    }
   }
  }
 ],
 "metadata": {
  "kernelspec": {
   "display_name": "Python 3",
   "language": "python",
   "name": "python3"
  },
  "language_info": {
   "codemirror_mode": {
    "name": "ipython",
    "version": 2
   },
   "file_extension": ".py",
   "mimetype": "text/x-python",
   "name": "python",
   "nbconvert_exporter": "python",
   "pygments_lexer": "ipython2",
   "version": "2.7.6"
  },
  "pycharm": {
   "stem_cell": {
    "cell_type": "raw",
    "source": [],
    "metadata": {
     "collapsed": false
    }
   }
  }
 },
 "nbformat": 4,
 "nbformat_minor": 0
}