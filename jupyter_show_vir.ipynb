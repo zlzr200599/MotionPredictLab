{
 "cells": [
  {
   "cell_type": "code",
   "execution_count": 1,
   "id": "83fad8c1",
   "metadata": {},
   "outputs": [
    {
     "name": "stderr",
     "output_type": "stream",
     "text": [
      "Using backend: pytorch\n"
     ]
    }
   ],
   "source": [
    "import torch\n",
    "from math import sqrt\n",
    "from time import time\n",
    "import fire\n",
    "from torch.autograd import Variable\n",
    "from models import VectorNet\n",
    "from config import DefaultConfig\n",
    "from data import VectorNetDataset, collate\n",
    "from torch.utils.data import DataLoader\n",
    "import warnings"
   ]
  },
  {
   "cell_type": "code",
   "execution_count": 2,
   "id": "4face50a",
   "metadata": {},
   "outputs": [],
   "source": [
    "loss_tranform = lambda cost: sqrt(cost * 1)"
   ]
  },
  {
   "cell_type": "code",
   "execution_count": null,
   "id": "1a223401",
   "metadata": {},
   "outputs": [],
   "source": [
    "def train(**kwargs):\n",
    "    '''\n",
    "    训练\n",
    "    '''\n",
    "    opt.parse(kwargs)\n",
    "    if opt.load_model_path:\n",
    "        model.load(opt.load_model_path)\n",
    "    if opt.use_gpu: model.cuda()\n",
    "\n",
    "    torch.multiprocessing.set_sharing_strategy('file_system')\n",
    "    train_data = VectorNetDataset(opt.train_data_root, train=True)\n",
    "    val_data = VectorNetDataset(opt.train_data_root, train=False)\n",
    "    train_dataloader = DataLoader(train_data, opt.batch_size, shuffle=True, num_workers=opt.num_workers,\n",
    "                                  collate_fn=collate)\n",
    "    val_dataloader = DataLoader(val_data, opt.batch_size, shuffle=False, num_workers=opt.num_workers,\n",
    "                                collate_fn=collate)\n",
    "\n",
    "    criterion = torch.nn.MSELoss()\n",
    "    lr = opt.lr\n",
    "    optimizer = torch.optim.Adam(model.parameters(), lr=lr, weight_decay=opt.weight_decay)\n",
    "    TrainingLoss = []\n",
    "    ValLoss = []\n",
    "    preloss = 1e100\n",
    "    for epoch in range(opt.max_epoch):\n",
    "        losses = 0\n",
    "        num = 0\n",
    "        start_time = time()\n",
    "        for ii, (data, label) in enumerate(train_dataloader):\n",
    "            # input = Variable(data)\n",
    "            target = Variable(label)\n",
    "            if opt.use_gpu:\n",
    "                data['Agent'] = data['Agent'].to(torch.device('cuda:0'))\n",
    "                for g in data['Map']:\n",
    "                    g = g.to(torch.device('cuda:0'))\n",
    "                data['Agentfeature'] = Variable(data['Agentfeature']).cuda()\n",
    "                for feature in data['Mapfeature']:\n",
    "                    feature = Variable(feature).cuda()\n",
    "                target = target.cuda()\n",
    "            if len(data['Map']) == 0:\n",
    "                continue\n",
    "            optimizer.zero_grad()\n",
    "            score = model(data['Agent'], data['Map'], data['Agentfeature'], data['Mapfeature'], data['Mapmask'])\n",
    "            loss = criterion(score.double().reshape(-1, 60), target.double())\n",
    "            loss.backward()\n",
    "            optimizer.step()\n",
    "            losses += loss.data\n",
    "            num += 1\n",
    "            if num % 10 == 0:\n",
    "                print(f\"epoch: {epoch}, batch num: {num}, current batch loss: {loss_tranform(loss.data):.4f} m, \", \\\n",
    "                      f\"time lapses: {time() - start_time:.1f} s\")\n",
    "        # model.save()\n",
    "        # TrainingLoss.append(losses / num)\n",
    "        TrainingLoss.append(loss_tranform(losses / num))\n",
    "        # ValLoss.append(val(model, val_dataloader))\n",
    "        ValLoss.append(loss_tranform(val(model, val_dataloader)))\n",
    "        print(f\"epoch: {epoch}, val loss: {ValLoss[-1]}, train loss: {TrainingLoss[-1]}\")\n",
    "\n",
    "        if losses / num > preloss:\n",
    "            lr = lr * opt.lr_decay\n",
    "\n",
    "        preloss = losses / num\n",
    "    model.save('new.pth')"
   ]
  },
  {
   "cell_type": "code",
   "execution_count": null,
   "id": "c54a11ba",
   "metadata": {},
   "outputs": [],
   "source": [
    "@torch.no_grad()\n",
    "def val(model, dataloader):\n",
    "    '''\n",
    "    计算模型在验证集上的准确率等信息，用以辅助训练\n",
    "    '''\n",
    "    model.eval()\n",
    "    losses = 0\n",
    "    num = 0\n",
    "    criterion = torch.nn.MSELoss()\n",
    "    for ii, (data, label) in enumerate(dataloader):\n",
    "        # input = Variable(data)\n",
    "        target = Variable(label)\n",
    "        if opt.use_gpu:\n",
    "            data['Agent'] = data['Agent'].to(torch.device('cuda:0'))\n",
    "            for g in data['Map']:\n",
    "                g = g.to(torch.device('cuda:0'))\n",
    "            data['Agentfeature'] = data['Agentfeature'].cuda()\n",
    "            for feature in data['Mapfeature']:\n",
    "                feature = Variable(feature).cuda()\n",
    "            target = target.cuda()\n",
    "        if len(data['Map']) == 0:\n",
    "            continue\n",
    "        score = model(data['Agent'], data['Map'], data['Agentfeature'], data['Mapfeature'], data['Mapmask'])\n",
    "        loss = criterion(score.double(), target.double())\n",
    "        losses += loss.data\n",
    "        num += 1\n",
    "        if num % 10 == 0:\n",
    "            # print(num)\n",
    "            pass\n",
    "    model.train()\n",
    "    # print('eval:',losses/num)\n",
    "    return losses / num"
   ]
  },
  {
   "cell_type": "code",
   "execution_count": 12,
   "id": "44a024b4",
   "metadata": {},
   "outputs": [],
   "source": [
    "%matplotlib inline\n",
    "import matplotlib.pyplot as plt\n",
    "a = [1,2,3,4]\n",
    "b = list()"
   ]
  },
  {
   "cell_type": "code",
   "execution_count": 7,
   "id": "60bc219a",
   "metadata": {},
   "outputs": [
    {
     "name": "stdout",
     "output_type": "stream",
     "text": [
      "user config:\n",
      "env default\n",
      "model VectorNet\n",
      "train_data_root ./data/train/forecasting_train_head_1000\n",
      "test_data_root ./data/test/test_sample\n",
      "load_model_path None\n",
      "batch_size 1\n",
      "use_gpu False\n",
      "num_workers 0\n",
      "print_freq 20\n",
      "result_file result.csv\n",
      "max_epoch 10\n",
      "lr 0.1\n",
      "lr_decay 0.95\n",
      "weight_decay 0.0001\n",
      "parse <bound method DefaultConfig.parse of <config.DefaultConfig object at 0x7feda9171940>>\n",
      "tensor([-0.1448,  0.1183,  0.1809,  0.0362, -0.1068,  0.2759, -0.1188,  0.0544,\n",
      "         0.0619,  0.1468, -0.1626, -0.0111, -0.1741,  0.2380,  0.0556,  0.1187,\n",
      "        -0.0760,  0.0560, -0.1073,  0.1088, -0.3876,  0.1599,  0.0188,  0.1167,\n",
      "         0.2804,  0.1503,  0.0866,  0.0526,  0.1421,  0.1710,  0.0132,  0.2780,\n",
      "        -0.0826,  0.1083,  0.0523,  0.0628,  0.0046, -0.5321, -0.2627, -0.0369,\n",
      "        -0.2835,  0.0601,  0.0025,  0.1628,  0.0793,  0.2022,  0.0458,  0.0892,\n",
      "         0.1145,  0.0805,  0.0129,  0.0837, -0.1587,  0.0274, -0.0246,  0.1749,\n",
      "        -0.0081,  0.0761, -0.0080,  0.1638], grad_fn=<SubBackward0>)\n",
      "ade: tensor(0.0242, dtype=torch.float64)\n"
     ]
    }
   ],
   "source": [
    "def test(**kwargs):\n",
    "    '''\n",
    "    测试（inference）\n",
    "    '''\n",
    "    opt.parse(kwargs)\n",
    "    if opt.load_model_path:\n",
    "        model.load(opt.load_model_path)\n",
    "    else:\n",
    "        model.load('new.pth')\n",
    "    torch.multiprocessing.set_sharing_strategy('file_system')\n",
    "    test_data = VectorNetDataset(opt.test_data_root, test=True)\n",
    "    test_dataloader = DataLoader(test_data, opt.batch_size, shuffle=False, num_workers=opt.num_workers,\n",
    "                                 collate_fn=collate)\n",
    "    criterion = torch.nn.MSELoss()\n",
    "    model.eval()\n",
    "    losses = 0\n",
    "    num = 0\n",
    "    for ii, (data, label) in enumerate(test_dataloader):\n",
    "        # input = Variable(data)\n",
    "        target = Variable(label)\n",
    "        if opt.use_gpu:\n",
    "            # input = input.cuda()\n",
    "            target = target.cuda()\n",
    "        if len(data['Map']) == 0:\n",
    "            continue\n",
    "        score = model(data['Agent'], data['Map'], data['Agentfeature'], data['Mapfeature'], data['Mapmask'])\n",
    "        loss = criterion(score.double(), target.double())\n",
    "        \n",
    "        print(target.flatten() - score.flatten())\n",
    "        # print(score.shape)\n",
    "        losses += loss.data\n",
    "        num += 1\n",
    "    model.train()\n",
    "    print('ade:', losses / num)\n",
    "    return\n",
    "\n",
    "opt = DefaultConfig()\n",
    "model = VectorNet(5, 64, 60)\n",
    "warnings.filterwarnings(\"ignore\")\n",
    "test()"
   ]
  },
  {
   "cell_type": "code",
   "execution_count": 4,
   "id": "f1a87e6e",
   "metadata": {},
   "outputs": [
    {
     "ename": "NameError",
     "evalue": "name 'score' is not defined",
     "output_type": "error",
     "traceback": [
      "\u001b[0;31m---------------------------------------------------------------------------\u001b[0m",
      "\u001b[0;31mNameError\u001b[0m                                 Traceback (most recent call last)",
      "\u001b[0;32m<ipython-input-4-50ac36be4d0e>\u001b[0m in \u001b[0;36m<module>\u001b[0;34m\u001b[0m\n\u001b[1;32m      1\u001b[0m \u001b[0;31m# %matplotlib inline\u001b[0m\u001b[0;34m\u001b[0m\u001b[0;34m\u001b[0m\u001b[0;34m\u001b[0m\u001b[0m\n\u001b[0;32m----> 2\u001b[0;31m \u001b[0mscore\u001b[0m\u001b[0;34m\u001b[0m\u001b[0;34m\u001b[0m\u001b[0m\n\u001b[0m",
      "\u001b[0;31mNameError\u001b[0m: name 'score' is not defined"
     ]
    }
   ],
   "source": [
    "# %matplotlib inline\n",
    "score"
   ]
  },
  {
   "cell_type": "code",
   "execution_count": null,
   "id": "2d898e09",
   "metadata": {},
   "outputs": [],
   "source": [
    "def help():\n",
    "    '''\n",
    "    打印帮助的信息 \n",
    "    '''\n",
    "    print('help')"
   ]
  },
  {
   "cell_type": "code",
   "execution_count": null,
   "id": "e6de7b9c",
   "metadata": {},
   "outputs": [],
   "source": [
    "# if __name__ == \"__main__\":\n",
    "#     opt = DefaultConfig()\n",
    "#     model = VectorNet(5, 64, 60)\n",
    "#     # fire.Fire()\n",
    "#     warnings.filterwarnings(\"ignore\")\n",
    "#     # train()\n",
    "#     test()"
   ]
  }
 ],
 "metadata": {
  "kernelspec": {
   "display_name": "Python 3",
   "language": "python",
   "name": "python3"
  },
  "language_info": {
   "codemirror_mode": {
    "name": "ipython",
    "version": 3
   },
   "file_extension": ".py",
   "mimetype": "text/x-python",
   "name": "python",
   "nbconvert_exporter": "python",
   "pygments_lexer": "ipython3",
   "version": "3.6.13"
  }
 },
 "nbformat": 4,
 "nbformat_minor": 5
}
